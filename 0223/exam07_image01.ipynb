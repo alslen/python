{
 "cells": [
  {
   "cell_type": "code",
   "execution_count": 9,
   "id": "8291b952",
   "metadata": {},
   "outputs": [],
   "source": [
    "from PIL import Image, ImageFilter  #  PIL(필로우) : 이미지 분석 및 처리를 쉽게 할 수 있는 라이브러리"
   ]
  },
  {
   "cell_type": "code",
   "execution_count": 2,
   "id": "3387739a",
   "metadata": {},
   "outputs": [
    {
     "data": {
      "text/plain": [
       "(800, 600)"
      ]
     },
     "execution_count": 2,
     "metadata": {},
     "output_type": "execute_result"
    }
   ],
   "source": [
    "im = Image.open('ko_wordCloud.jpg')\n",
    "im.size"
   ]
  },
  {
   "cell_type": "code",
   "execution_count": 3,
   "id": "fd5a082a",
   "metadata": {},
   "outputs": [],
   "source": [
    "im.save('ko_wordCloud1.jpg')  # 이미지를 다른 이름으로 저장"
   ]
  },
  {
   "cell_type": "code",
   "execution_count": 6,
   "id": "67af942a",
   "metadata": {},
   "outputs": [],
   "source": [
    "im = Image.open('ko_wordCloud.jpg')\n",
    "size = (64,64) #  open한 이미지의 크기 변경\n",
    "im.thumbnail(size) # thumbnail 이미지 생성\n",
    "im.save('ko_wordCloud_thum.jpg')"
   ]
  },
  {
   "cell_type": "code",
   "execution_count": 7,
   "id": "cb5471c4",
   "metadata": {},
   "outputs": [],
   "source": [
    "im = Image.open('강아지2.jpg')\n",
    "cropImage = im.crop((100,100,150,150))   # crop : 지정한 크기만큼 자름\n",
    "cropImage.save('dog.jpg')"
   ]
  },
  {
   "cell_type": "code",
   "execution_count": 8,
   "id": "bb3c30ca",
   "metadata": {},
   "outputs": [],
   "source": [
    "# 90도 회전\n",
    "img3 = im.rotate(90)  # 사진 회전 : rotate\n",
    "img3.save('dog_rotate.jpg')"
   ]
  },
  {
   "cell_type": "code",
   "execution_count": 10,
   "id": "bb91a7d9",
   "metadata": {},
   "outputs": [],
   "source": [
    "im = Image.open('강아지2.jpg')\n",
    "blurImage = im.filter(ImageFilter.BLUR)  # ImageFilter.BLUR : 이미지가 흐릿하게 보임\n",
    "blurImage.save('dog_blur.jpg')"
   ]
  },
  {
   "cell_type": "code",
   "execution_count": null,
   "id": "dc849461",
   "metadata": {},
   "outputs": [],
   "source": []
  }
 ],
 "metadata": {
  "kernelspec": {
   "display_name": "Python 3 (ipykernel)",
   "language": "python",
   "name": "python3"
  },
  "language_info": {
   "codemirror_mode": {
    "name": "ipython",
    "version": 3
   },
   "file_extension": ".py",
   "mimetype": "text/x-python",
   "name": "python",
   "nbconvert_exporter": "python",
   "pygments_lexer": "ipython3",
   "version": "3.9.13"
  }
 },
 "nbformat": 4,
 "nbformat_minor": 5
}

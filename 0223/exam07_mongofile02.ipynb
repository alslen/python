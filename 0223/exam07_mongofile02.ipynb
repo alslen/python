{
 "cells": [
  {
   "cell_type": "code",
   "execution_count": 1,
   "id": "eba0487d",
   "metadata": {},
   "outputs": [],
   "source": [
    "# !pip install pymongo"
   ]
  },
  {
   "cell_type": "code",
   "execution_count": 2,
   "id": "278972b0",
   "metadata": {},
   "outputs": [
    {
     "data": {
      "text/plain": [
       "Database(MongoClient(host=['localhost:27017'], document_class=dict, tz_aware=False, connect=True), 'python_test01')"
      ]
     },
     "execution_count": 2,
     "metadata": {},
     "output_type": "execute_result"
    }
   ],
   "source": [
    "from pymongo import MongoClient\n",
    "from gridfs import GridFS\n",
    "db = MongoClient().python_test01  # 몽고DB에 'python_test01' 데이터베이스가 생성\n",
    "db"
   ]
  },
  {
   "cell_type": "code",
   "execution_count": 3,
   "id": "97c2d295",
   "metadata": {},
   "outputs": [
    {
     "data": {
      "text/plain": [
       "<gridfs.GridFS at 0x1e3aeb43280>"
      ]
     },
     "execution_count": 3,
     "metadata": {},
     "output_type": "execute_result"
    }
   ],
   "source": [
    "fs = GridFS(db)\n",
    "fs"
   ]
  },
  {
   "cell_type": "code",
   "execution_count": 4,
   "id": "0e85bca7",
   "metadata": {},
   "outputs": [
    {
     "name": "stdout",
     "output_type": "stream",
     "text": [
      "f=  <_io.BufferedReader name='test11.txt'>\n"
     ]
    }
   ],
   "source": [
    "with open('test11.txt', 'rb') as f:\n",
    "    fs.put(f, filename='test11.txt')  # 몽고디비에 파일을 저장해줌.\n",
    "    print('f= ',f)"
   ]
  },
  {
   "cell_type": "code",
   "execution_count": 5,
   "id": "52c66930",
   "metadata": {},
   "outputs": [
    {
     "name": "stdout",
     "output_type": "stream",
     "text": [
      "<pymongo.cursor.Cursor object at 0x000001E3AEB43970>\n"
     ]
    }
   ],
   "source": [
    "print(db.fs.files.find())"
   ]
  },
  {
   "cell_type": "code",
   "execution_count": 6,
   "id": "ceb0fd7f",
   "metadata": {},
   "outputs": [
    {
     "name": "stdout",
     "output_type": "stream",
     "text": [
      "[{'_id': ObjectId('63f7007c8669a83701dbe2f8'), 'filename': 'test.txt', 'chunkSize': 261120, 'length': 60, 'uploadDate': datetime.datetime(2023, 2, 23, 5, 58, 20, 834000)}, {'_id': ObjectId('63f701ba7af6f19e2bdbb47a'), 'filename': 'test.txt', 'chunkSize': 261120, 'length': 60, 'uploadDate': datetime.datetime(2023, 2, 23, 6, 3, 38, 288000)}, {'_id': ObjectId('63f702d90c91418e9501a04f'), 'filename': 'test11.txt', 'chunkSize': 261120, 'length': 60, 'uploadDate': datetime.datetime(2023, 2, 23, 6, 8, 25, 660000)}, {'_id': ObjectId('63f702f7740c696b6a46ef7b'), 'filename': 'test11.txt', 'chunkSize': 261120, 'length': 60, 'uploadDate': datetime.datetime(2023, 2, 23, 6, 8, 55, 464000)}, {'_id': ObjectId('63f7034f3d2952d23d1a0815'), 'filename': 'test11.txt', 'chunkSize': 261120, 'length': 60, 'uploadDate': datetime.datetime(2023, 2, 23, 6, 10, 23, 609000)}, {'_id': ObjectId('63f70372518c8cc0e099f83d'), 'filename': 'test11.txt', 'chunkSize': 261120, 'length': 70, 'uploadDate': datetime.datetime(2023, 2, 23, 6, 10, 58, 437000)}]\n",
      "6\n"
     ]
    }
   ],
   "source": [
    "fs_list = list(db.fs.files.find())  \n",
    "print(fs_list) # DB에 들어있는 값들이 출력됨\n",
    "print(len(fs_list))"
   ]
  },
  {
   "cell_type": "code",
   "execution_count": 7,
   "id": "6b3bab17",
   "metadata": {},
   "outputs": [
    {
     "data": {
      "text/plain": [
       "'mongo test1111111111 몽고DB GRIDFS에 저장할 내용입니다.!!!!'"
      ]
     },
     "execution_count": 7,
     "metadata": {},
     "output_type": "execute_result"
    }
   ],
   "source": [
    "f=fs.get_last_version(filename='test11.txt')  # 같은 값이 들어가있으면 가장 최근에 insert된 값을 읽어줌\n",
    "f_decode = f.read().decode('utf-8')\n",
    "f_decode"
   ]
  },
  {
   "cell_type": "code",
   "execution_count": 8,
   "id": "6ff1d5fd",
   "metadata": {},
   "outputs": [
    {
     "data": {
      "text/plain": [
       "'mongo test 몽고DB GRIDFS에 저장할 내용입니다.!!!!'"
      ]
     },
     "execution_count": 8,
     "metadata": {},
     "output_type": "execute_result"
    }
   ],
   "source": [
    "f=fs.get_last_version(filename='test.txt')  \n",
    "f_decode = f.read().decode('utf-8')\n",
    "f_decode"
   ]
  },
  {
   "cell_type": "code",
   "execution_count": null,
   "id": "5aa37b36",
   "metadata": {},
   "outputs": [],
   "source": []
  }
 ],
 "metadata": {
  "kernelspec": {
   "display_name": "Python 3 (ipykernel)",
   "language": "python",
   "name": "python3"
  },
  "language_info": {
   "codemirror_mode": {
    "name": "ipython",
    "version": 3
   },
   "file_extension": ".py",
   "mimetype": "text/x-python",
   "name": "python",
   "nbconvert_exporter": "python",
   "pygments_lexer": "ipython3",
   "version": "3.9.13"
  }
 },
 "nbformat": 4,
 "nbformat_minor": 5
}
